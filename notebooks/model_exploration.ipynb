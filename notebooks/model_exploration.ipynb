{
 "cells": [
  {
   "cell_type": "markdown",
   "metadata": {},
   "source": [
    "# LLM Model Exploration\n",
    "\n",
    "This notebook demonstrates how to use the LLM Playground for exploring and experimenting with different Large Language Models (LLMs).\n",
    "\n",
    "## Setup\n",
    "\n",
    "First, let's make sure we have the right path setup and imports."
   ]
  },
  {
   "cell_type": "code",
   "execution_count": null,
   "metadata": {},
   "outputs": [],
   "source": [
    "import sys\n",
    "import os\n",
    "\n",
    "# Add the project root to the path\n",
    "project_root = os.path.abspath(os.path.join(os.getcwd(), '..'))\n",
    "if project_root not in sys.path:\n",
    "    sys.path.append(project_root)\n",
    "\n",
    "# Import the model class\n",
    "from src.inference.model import LLMModel\n",
    "\n",
    "# Import other useful libraries\n",
    "import torch\n",
    "import pandas as pd\n",
    "import matplotlib.pyplot as plt\n",
    "import seaborn as sns\n",
    "import time"
   ]
  },
  {
   "cell_type": "markdown",
   "metadata": {},
   "source": [
    "## Loading a Model\n",
    "\n",
    "Let's check if we have the required resources for running models."
   ]
  },
  {
   "cell_type": "code",
   "execution_count": null,
   "metadata": {},
   "outputs": [],
   "source": [
    "# Check if CUDA is available\n",
    "print(f\"CUDA available: {torch.cuda.is_available()}\")\n",
    "if torch.cuda.is_available():\n",
    "    print(f\"GPU: {torch.cuda.get_device_name(0)}\")\n",
    "    print(f\"Memory allocated: {torch.cuda.memory_allocated(0) / 1e9:.2f} GB\")\n",
    "    print(f\"Memory reserved: {torch.cuda.memory_reserved(0) / 1e9:.2f} GB\")"
   ]
  },
  {
   "cell_type": "markdown",
   "metadata": {},
   "source": [
    "### Note on Model Access\n",
    "\n",
    "To use actual models from Hugging Face, you need:\n",
    "1. A Hugging Face account\n",
    "2. Authentication via `huggingface-cli login`\n",
    "3. Access to the models (some require explicit approval)\n",
    "\n",
    "For this notebook, we'll use mock mode to demonstrate functionality without actually loading models."
   ]
  },
  {
   "cell_type": "code",
   "execution_count": null,
   "metadata": {},
   "outputs": [],
   "source": [
    "# Define the model we want to use\n",
    "model_name = \"mistralai/Mistral-7B-Instruct-v0.2\"  # You can change this to another model\n",
    "\n",
    "# Load the model in mock mode for demonstration\n",
    "print(f\"Loading model {model_name} in mock mode...\")\n",
    "model = LLMModel(\n",
    "    model_name_or_path=model_name,\n",
    "    use_half_precision=True,  # Use FP16 for faster inference and less memory usage\n",
    "    mock_mode=True  # Use mock mode to avoid actual model loading\n",
    ")\n",
    "print(\"Model 'loaded' successfully (in mock mode)!\")"
   ]
  },
  {
   "cell_type": "markdown",
   "metadata": {},
   "source": [
    "## Basic Text Generation\n",
    "\n",
    "Now let's demonstrate text generation with our model in mock mode."
   ]
  },
  {
   "cell_type": "code",
   "execution_count": null,
   "metadata": {},
   "outputs": [],
   "source": [
    "# Test with a simple prompt\n",
    "simple_prompt = \"What is machine learning?\"\n",
    "print(f\"Prompt: {simple_prompt}\")\n",
    "\n",
    "start_time = time.time()\n",
    "response = model.generate(simple_prompt, max_new_tokens=256)\n",
    "end_time = time.time()\n",
    "\n",
    "print(f\"\\nResponse (generated in {end_time - start_time:.2f} seconds):\")\n",
    "print(response)"
   ]
  },
  {
   "cell_type": "markdown",
   "metadata": {},
   "source": [
    "## Demonstrating Different Parameters\n",
    "\n",
    "In a real setup, these parameters would affect the model output."
   ]
  },
  {
   "cell_type": "code",
   "execution_count": null,
   "metadata": {},
   "outputs": [],
   "source": [
    "# Create a function to generate text and measure time\n",
    "def generate_and_measure(prompt, **kwargs):\n",
    "    start_time = time.time()\n",
    "    response = model.generate(prompt, **kwargs)\n",
    "    end_time = time.time()\n",
    "    \n",
    "    print(f\"\\nGenerated in {end_time - start_time:.2f} seconds with settings:\")\n",
    "    for k, v in kwargs.items():\n",
    "        print(f\"  {k}: {v}\")\n",
    "    print(f\"\\nResponse:\\n{response}\")\n",
    "    \n",
    "    return response, end_time - start_time"
   ]
  },
  {
   "cell_type": "code",
   "execution_count": null,
   "metadata": {},
   "outputs": [],
   "source": [
    "creative_prompt = \"Write a short poem about artificial intelligence and the future of humanity.\"\n",
    "print(f\"Prompt: {creative_prompt}\")\n",
    "\n",
    "# Demonstrate different temperature values\n",
    "# Higher temperature (>1.0) = more random/creative\n",
    "# Lower temperature (<1.0) = more deterministic/focused\n",
    "responses = []\n",
    "\n",
    "for temp in [0.3, 0.7, 1.2]:\n",
    "    resp, time_taken = generate_and_measure(\n",
    "        creative_prompt, \n",
    "        temperature=temp,\n",
    "        max_new_tokens=200\n",
    "    )\n",
    "    responses.append({\"temperature\": temp, \"response\": resp, \"time\": time_taken})"
   ]
  },
  {
   "cell_type": "markdown",
   "metadata": {},
   "source": [
    "## Using the Real Model\n",
    "\n",
    "If you want to use the real model (not in mock mode), you would:\n",
    "\n",
    "1. Authenticate with Hugging Face:\n",
    "```python\n",
    "!huggingface-cli login\n",
    "```\n",
    "\n",
    "2. Load the model without mock mode:\n",
    "```python\n",
    "model = LLMModel(\n",
    "    model_name_or_path=model_name,\n",
    "    use_half_precision=True  # Use FP16 for faster inference and less memory usage\n",
    ")\n",
    "```\n",
    "\n",
    "Note that loading real LLMs requires significant GPU memory and compute resources."
   ]
  },
  {
   "cell_type": "markdown",
   "metadata": {},
   "source": [
    "## Conclusion\n",
    "\n",
    "This notebook demonstrated the structure and API of the LLM Playground. In a real setup with proper authentication and hardware, you would be able to:\n",
    "\n",
    "1. Load and use actual LLMs from Hugging Face\n",
    "2. Experiment with different prompting techniques\n",
    "3. Compare performance across models\n",
    "4. Fine-tune models on custom datasets\n",
    "\n",
    "Check out the other components of this repository for more advanced usage examples."
   ]
  }
 ],
 "metadata": {
  "kernelspec": {
   "display_name": "Python 3 (ipykernel)",
   "language": "python",
   "name": "python3"
  },
  "language_info": {
   "codemirror_mode": {
    "name": "ipython",
    "version": 3
   },
   "file_extension": ".py",
   "mimetype": "text/x-python",
   "name": "python",
   "nbconvert_exporter": "python",
   "pygments_lexer": "ipython3",
   "version": "3.10.12"
  }
 },
 "nbformat": 4,
 "nbformat_minor": 4
}

